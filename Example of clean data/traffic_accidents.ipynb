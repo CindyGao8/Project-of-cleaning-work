{
 "cells": [
  {
   "cell_type": "markdown",
   "metadata": {},
   "source": [
    "## Part 1 - NYC Traffic Accidents from Janurary-August 2020"
   ]
  },
  {
   "cell_type": "code",
   "execution_count": 3,
   "metadata": {
    "tags": []
   },
   "outputs": [],
   "source": [
    "#1 import pandas\n",
    "import pandas as pd"
   ]
  },
  {
   "cell_type": "markdown",
   "metadata": {},
   "source": [
    "**1. import NYC_Accidents_2020.csv as a DataFrame**"
   ]
  },
  {
   "cell_type": "code",
   "execution_count": 4,
   "metadata": {
    "tags": []
   },
   "outputs": [],
   "source": [
    "# import data\n",
    "df = pd.read_csv('./data/raw/NYC_Accidents_2020.csv',skiprows=3)"
   ]
  },
  {
   "cell_type": "markdown",
   "metadata": {},
   "source": [
    "The first three rows are blanck thus we need to skip the first three rows by using 'skiprows'"
   ]
  },
  {
   "cell_type": "markdown",
   "metadata": {},
   "source": [
    "**2. display columns and row samples**"
   ]
  },
  {
   "cell_type": "code",
   "execution_count": 5,
   "metadata": {
    "tags": []
   },
   "outputs": [
    {
     "data": {
      "text/plain": [
       "Index(['CRASH DATE', 'CRASH TIME', 'BOROUGH', 'ZIP CODE', 'LATITUDE',\n",
       "       'LONGITUDE', 'LOCATION', 'ON STREET NAME', 'CROSS STREET NAME',\n",
       "       'OFF STREET NAME', 'NUMBER OF PERSONS INJURED',\n",
       "       'NUMBER OF PERSONS KILLED', 'NUMBER OF PEDESTRIANS INJURED',\n",
       "       'NUMBER OF PEDESTRIANS KILLED', 'NUMBER OF CYCLIST INJURED',\n",
       "       'NUMBER OF CYCLIST KILLED', 'NUMBER OF MOTORIST INJURED',\n",
       "       'NUMBER OF MOTORIST KILLED', 'CONTRIBUTING FACTOR VEHICLE 1',\n",
       "       'CONTRIBUTING FACTOR VEHICLE 2', 'CONTRIBUTING FACTOR VEHICLE 3',\n",
       "       'CONTRIBUTING FACTOR VEHICLE 4', 'CONTRIBUTING FACTOR VEHICLE 5',\n",
       "       'COLLISION_ID', 'VEHICLE TYPE CODE 1', 'VEHICLE TYPE CODE 2',\n",
       "       'VEHICLE TYPE CODE 3', 'VEHICLE TYPE CODE 4', 'VEHICLE TYPE CODE 5'],\n",
       "      dtype='object')"
      ]
     },
     "execution_count": 5,
     "metadata": {},
     "output_type": "execute_result"
    }
   ],
   "source": [
    "df.columns"
   ]
  },
  {
   "cell_type": "code",
   "execution_count": 6,
   "metadata": {
    "tags": []
   },
   "outputs": [
    {
     "data": {
      "text/html": [
       "<div>\n",
       "<style scoped>\n",
       "    .dataframe tbody tr th:only-of-type {\n",
       "        vertical-align: middle;\n",
       "    }\n",
       "\n",
       "    .dataframe tbody tr th {\n",
       "        vertical-align: top;\n",
       "    }\n",
       "\n",
       "    .dataframe thead th {\n",
       "        text-align: right;\n",
       "    }\n",
       "</style>\n",
       "<table border=\"1\" class=\"dataframe\">\n",
       "  <thead>\n",
       "    <tr style=\"text-align: right;\">\n",
       "      <th></th>\n",
       "      <th>CRASH DATE</th>\n",
       "      <th>CRASH TIME</th>\n",
       "      <th>BOROUGH</th>\n",
       "      <th>ZIP CODE</th>\n",
       "      <th>LATITUDE</th>\n",
       "      <th>LONGITUDE</th>\n",
       "      <th>LOCATION</th>\n",
       "      <th>ON STREET NAME</th>\n",
       "      <th>CROSS STREET NAME</th>\n",
       "      <th>OFF STREET NAME</th>\n",
       "      <th>...</th>\n",
       "      <th>CONTRIBUTING FACTOR VEHICLE 2</th>\n",
       "      <th>CONTRIBUTING FACTOR VEHICLE 3</th>\n",
       "      <th>CONTRIBUTING FACTOR VEHICLE 4</th>\n",
       "      <th>CONTRIBUTING FACTOR VEHICLE 5</th>\n",
       "      <th>COLLISION_ID</th>\n",
       "      <th>VEHICLE TYPE CODE 1</th>\n",
       "      <th>VEHICLE TYPE CODE 2</th>\n",
       "      <th>VEHICLE TYPE CODE 3</th>\n",
       "      <th>VEHICLE TYPE CODE 4</th>\n",
       "      <th>VEHICLE TYPE CODE 5</th>\n",
       "    </tr>\n",
       "  </thead>\n",
       "  <tbody>\n",
       "    <tr>\n",
       "      <th>0</th>\n",
       "      <td>8/29/20</td>\n",
       "      <td>15:40:00</td>\n",
       "      <td>BRONX</td>\n",
       "      <td>10466.0</td>\n",
       "      <td>40.89210</td>\n",
       "      <td>-73.833760</td>\n",
       "      <td>POINT (-73.83376 40.8921)</td>\n",
       "      <td>PRATT AVENUE</td>\n",
       "      <td>STRANG AVENUE</td>\n",
       "      <td>NaN</td>\n",
       "      <td>...</td>\n",
       "      <td>Unspecified</td>\n",
       "      <td>NaN</td>\n",
       "      <td>NaN</td>\n",
       "      <td>NaN</td>\n",
       "      <td>4342908</td>\n",
       "      <td>Sedan</td>\n",
       "      <td>Station Wagon/Sport Utility Vehicle</td>\n",
       "      <td>NaN</td>\n",
       "      <td>NaN</td>\n",
       "      <td>NaN</td>\n",
       "    </tr>\n",
       "    <tr>\n",
       "      <th>1</th>\n",
       "      <td>8/29/20</td>\n",
       "      <td>21:00:00</td>\n",
       "      <td>BROOKLYN</td>\n",
       "      <td>11221.0</td>\n",
       "      <td>40.69050</td>\n",
       "      <td>-73.919914</td>\n",
       "      <td>POINT (-73.919914 40.6905)</td>\n",
       "      <td>BUSHWICK AVENUE</td>\n",
       "      <td>PALMETTO STREET</td>\n",
       "      <td>NaN</td>\n",
       "      <td>...</td>\n",
       "      <td>Unspecified</td>\n",
       "      <td>NaN</td>\n",
       "      <td>NaN</td>\n",
       "      <td>NaN</td>\n",
       "      <td>4343555</td>\n",
       "      <td>Sedan</td>\n",
       "      <td>Sedan</td>\n",
       "      <td>NaN</td>\n",
       "      <td>NaN</td>\n",
       "      <td>NaN</td>\n",
       "    </tr>\n",
       "    <tr>\n",
       "      <th>2</th>\n",
       "      <td>8/29/20</td>\n",
       "      <td>18:20:00</td>\n",
       "      <td>NaN</td>\n",
       "      <td>NaN</td>\n",
       "      <td>40.81650</td>\n",
       "      <td>-73.946556</td>\n",
       "      <td>POINT (-73.946556 40.8165)</td>\n",
       "      <td>8 AVENUE</td>\n",
       "      <td>NaN</td>\n",
       "      <td>NaN</td>\n",
       "      <td>...</td>\n",
       "      <td>NaN</td>\n",
       "      <td>NaN</td>\n",
       "      <td>NaN</td>\n",
       "      <td>NaN</td>\n",
       "      <td>4343142</td>\n",
       "      <td>Station Wagon/Sport Utility Vehicle</td>\n",
       "      <td>NaN</td>\n",
       "      <td>NaN</td>\n",
       "      <td>NaN</td>\n",
       "      <td>NaN</td>\n",
       "    </tr>\n",
       "    <tr>\n",
       "      <th>3</th>\n",
       "      <td>8/29/20</td>\n",
       "      <td>0:00:00</td>\n",
       "      <td>BRONX</td>\n",
       "      <td>10459.0</td>\n",
       "      <td>40.82472</td>\n",
       "      <td>-73.892960</td>\n",
       "      <td>POINT (-73.89296 40.82472)</td>\n",
       "      <td>NaN</td>\n",
       "      <td>NaN</td>\n",
       "      <td>1047 SIMPSON STREET</td>\n",
       "      <td>...</td>\n",
       "      <td>Unspecified</td>\n",
       "      <td>Unspecified</td>\n",
       "      <td>Unspecified</td>\n",
       "      <td>NaN</td>\n",
       "      <td>4343588</td>\n",
       "      <td>Station Wagon/Sport Utility Vehicle</td>\n",
       "      <td>Station Wagon/Sport Utility Vehicle</td>\n",
       "      <td>Sedan</td>\n",
       "      <td>Motorcycle</td>\n",
       "      <td>NaN</td>\n",
       "    </tr>\n",
       "    <tr>\n",
       "      <th>4</th>\n",
       "      <td>8/29/20</td>\n",
       "      <td>17:10:00</td>\n",
       "      <td>BROOKLYN</td>\n",
       "      <td>11203.0</td>\n",
       "      <td>40.64989</td>\n",
       "      <td>-73.933890</td>\n",
       "      <td>POINT (-73.93389 40.64989)</td>\n",
       "      <td>NaN</td>\n",
       "      <td>NaN</td>\n",
       "      <td>4609 SNYDER AVENUE</td>\n",
       "      <td>...</td>\n",
       "      <td>Unspecified</td>\n",
       "      <td>NaN</td>\n",
       "      <td>NaN</td>\n",
       "      <td>NaN</td>\n",
       "      <td>4342953</td>\n",
       "      <td>Sedan</td>\n",
       "      <td>Sedan</td>\n",
       "      <td>NaN</td>\n",
       "      <td>NaN</td>\n",
       "      <td>NaN</td>\n",
       "    </tr>\n",
       "  </tbody>\n",
       "</table>\n",
       "<p>5 rows × 29 columns</p>\n",
       "</div>"
      ],
      "text/plain": [
       "  CRASH DATE CRASH TIME   BOROUGH  ZIP CODE  LATITUDE  LONGITUDE  \\\n",
       "0    8/29/20   15:40:00     BRONX   10466.0  40.89210 -73.833760   \n",
       "1    8/29/20   21:00:00  BROOKLYN   11221.0  40.69050 -73.919914   \n",
       "2    8/29/20   18:20:00       NaN       NaN  40.81650 -73.946556   \n",
       "3    8/29/20    0:00:00     BRONX   10459.0  40.82472 -73.892960   \n",
       "4    8/29/20   17:10:00  BROOKLYN   11203.0  40.64989 -73.933890   \n",
       "\n",
       "                     LOCATION   ON STREET NAME CROSS STREET NAME  \\\n",
       "0   POINT (-73.83376 40.8921)     PRATT AVENUE     STRANG AVENUE   \n",
       "1  POINT (-73.919914 40.6905)  BUSHWICK AVENUE   PALMETTO STREET   \n",
       "2  POINT (-73.946556 40.8165)         8 AVENUE               NaN   \n",
       "3  POINT (-73.89296 40.82472)              NaN               NaN   \n",
       "4  POINT (-73.93389 40.64989)              NaN               NaN   \n",
       "\n",
       "       OFF STREET NAME  ...  CONTRIBUTING FACTOR VEHICLE 2  \\\n",
       "0                  NaN  ...                    Unspecified   \n",
       "1                  NaN  ...                    Unspecified   \n",
       "2                  NaN  ...                            NaN   \n",
       "3  1047 SIMPSON STREET  ...                    Unspecified   \n",
       "4   4609 SNYDER AVENUE  ...                    Unspecified   \n",
       "\n",
       "   CONTRIBUTING FACTOR VEHICLE 3  CONTRIBUTING FACTOR VEHICLE 4  \\\n",
       "0                            NaN                            NaN   \n",
       "1                            NaN                            NaN   \n",
       "2                            NaN                            NaN   \n",
       "3                    Unspecified                    Unspecified   \n",
       "4                            NaN                            NaN   \n",
       "\n",
       "   CONTRIBUTING FACTOR VEHICLE 5  COLLISION_ID  \\\n",
       "0                            NaN       4342908   \n",
       "1                            NaN       4343555   \n",
       "2                            NaN       4343142   \n",
       "3                            NaN       4343588   \n",
       "4                            NaN       4342953   \n",
       "\n",
       "                   VEHICLE TYPE CODE 1                  VEHICLE TYPE CODE 2  \\\n",
       "0                                Sedan  Station Wagon/Sport Utility Vehicle   \n",
       "1                                Sedan                                Sedan   \n",
       "2  Station Wagon/Sport Utility Vehicle                                  NaN   \n",
       "3  Station Wagon/Sport Utility Vehicle  Station Wagon/Sport Utility Vehicle   \n",
       "4                                Sedan                                Sedan   \n",
       "\n",
       "   VEHICLE TYPE CODE 3 VEHICLE TYPE CODE 4 VEHICLE TYPE CODE 5  \n",
       "0                  NaN                 NaN                 NaN  \n",
       "1                  NaN                 NaN                 NaN  \n",
       "2                  NaN                 NaN                 NaN  \n",
       "3                Sedan          Motorcycle                 NaN  \n",
       "4                  NaN                 NaN                 NaN  \n",
       "\n",
       "[5 rows x 29 columns]"
      ]
     },
     "execution_count": 6,
     "metadata": {},
     "output_type": "execute_result"
    }
   ],
   "source": [
    "df.head(5)"
   ]
  },
  {
   "cell_type": "code",
   "execution_count": 7,
   "metadata": {
    "tags": []
   },
   "outputs": [
    {
     "data": {
      "text/html": [
       "<div>\n",
       "<style scoped>\n",
       "    .dataframe tbody tr th:only-of-type {\n",
       "        vertical-align: middle;\n",
       "    }\n",
       "\n",
       "    .dataframe tbody tr th {\n",
       "        vertical-align: top;\n",
       "    }\n",
       "\n",
       "    .dataframe thead th {\n",
       "        text-align: right;\n",
       "    }\n",
       "</style>\n",
       "<table border=\"1\" class=\"dataframe\">\n",
       "  <thead>\n",
       "    <tr style=\"text-align: right;\">\n",
       "      <th></th>\n",
       "      <th>CRASH DATE</th>\n",
       "      <th>CRASH TIME</th>\n",
       "      <th>BOROUGH</th>\n",
       "      <th>ZIP CODE</th>\n",
       "      <th>LATITUDE</th>\n",
       "      <th>LONGITUDE</th>\n",
       "      <th>LOCATION</th>\n",
       "      <th>ON STREET NAME</th>\n",
       "      <th>CROSS STREET NAME</th>\n",
       "      <th>OFF STREET NAME</th>\n",
       "      <th>...</th>\n",
       "      <th>CONTRIBUTING FACTOR VEHICLE 2</th>\n",
       "      <th>CONTRIBUTING FACTOR VEHICLE 3</th>\n",
       "      <th>CONTRIBUTING FACTOR VEHICLE 4</th>\n",
       "      <th>CONTRIBUTING FACTOR VEHICLE 5</th>\n",
       "      <th>COLLISION_ID</th>\n",
       "      <th>VEHICLE TYPE CODE 1</th>\n",
       "      <th>VEHICLE TYPE CODE 2</th>\n",
       "      <th>VEHICLE TYPE CODE 3</th>\n",
       "      <th>VEHICLE TYPE CODE 4</th>\n",
       "      <th>VEHICLE TYPE CODE 5</th>\n",
       "    </tr>\n",
       "  </thead>\n",
       "  <tbody>\n",
       "    <tr>\n",
       "      <th>71768</th>\n",
       "      <td>1/8/20</td>\n",
       "      <td>19:35:00</td>\n",
       "      <td>QUEENS</td>\n",
       "      <td>11375.0</td>\n",
       "      <td>40.730946</td>\n",
       "      <td>-73.848590</td>\n",
       "      <td>POINT (-73.84859 40.730946)</td>\n",
       "      <td>108 STREET</td>\n",
       "      <td>65 ROAD</td>\n",
       "      <td>NaN</td>\n",
       "      <td>...</td>\n",
       "      <td>Unspecified</td>\n",
       "      <td>Unspecified</td>\n",
       "      <td>NaN</td>\n",
       "      <td>NaN</td>\n",
       "      <td>4270503</td>\n",
       "      <td>Sedan</td>\n",
       "      <td>Sedan</td>\n",
       "      <td>Station Wagon/Sport Utility Vehicle</td>\n",
       "      <td>NaN</td>\n",
       "      <td>NaN</td>\n",
       "    </tr>\n",
       "    <tr>\n",
       "      <th>6647</th>\n",
       "      <td>8/6/20</td>\n",
       "      <td>11:00:00</td>\n",
       "      <td>MANHATTAN</td>\n",
       "      <td>10013.0</td>\n",
       "      <td>40.717100</td>\n",
       "      <td>-73.998600</td>\n",
       "      <td>POINT (-73.9986 40.7171)</td>\n",
       "      <td>CANAL STREET</td>\n",
       "      <td>MULBERRY STREET</td>\n",
       "      <td>NaN</td>\n",
       "      <td>...</td>\n",
       "      <td>Unspecified</td>\n",
       "      <td>NaN</td>\n",
       "      <td>NaN</td>\n",
       "      <td>NaN</td>\n",
       "      <td>4335963</td>\n",
       "      <td>Sedan</td>\n",
       "      <td>NaN</td>\n",
       "      <td>NaN</td>\n",
       "      <td>NaN</td>\n",
       "      <td>NaN</td>\n",
       "    </tr>\n",
       "    <tr>\n",
       "      <th>80</th>\n",
       "      <td>8/29/20</td>\n",
       "      <td>20:35:00</td>\n",
       "      <td>MANHATTAN</td>\n",
       "      <td>10025.0</td>\n",
       "      <td>40.801563</td>\n",
       "      <td>-73.962370</td>\n",
       "      <td>POINT (-73.96237 40.801563)</td>\n",
       "      <td>NaN</td>\n",
       "      <td>NaN</td>\n",
       "      <td>125 WEST 109 STREET</td>\n",
       "      <td>...</td>\n",
       "      <td>NaN</td>\n",
       "      <td>NaN</td>\n",
       "      <td>NaN</td>\n",
       "      <td>NaN</td>\n",
       "      <td>4343181</td>\n",
       "      <td>Station Wagon/Sport Utility Vehicle</td>\n",
       "      <td>NaN</td>\n",
       "      <td>NaN</td>\n",
       "      <td>NaN</td>\n",
       "      <td>NaN</td>\n",
       "    </tr>\n",
       "    <tr>\n",
       "      <th>21121</th>\n",
       "      <td>6/19/20</td>\n",
       "      <td>7:45:00</td>\n",
       "      <td>NaN</td>\n",
       "      <td>NaN</td>\n",
       "      <td>40.807213</td>\n",
       "      <td>-73.906334</td>\n",
       "      <td>POINT (-73.906334 40.807213)</td>\n",
       "      <td>BRUCKNER EXPRESSWAY</td>\n",
       "      <td>NaN</td>\n",
       "      <td>NaN</td>\n",
       "      <td>...</td>\n",
       "      <td>Unspecified</td>\n",
       "      <td>NaN</td>\n",
       "      <td>NaN</td>\n",
       "      <td>NaN</td>\n",
       "      <td>4321344</td>\n",
       "      <td>Station Wagon/Sport Utility Vehicle</td>\n",
       "      <td>Sedan</td>\n",
       "      <td>NaN</td>\n",
       "      <td>NaN</td>\n",
       "      <td>NaN</td>\n",
       "    </tr>\n",
       "    <tr>\n",
       "      <th>21709</th>\n",
       "      <td>6/17/20</td>\n",
       "      <td>23:30:00</td>\n",
       "      <td>NaN</td>\n",
       "      <td>NaN</td>\n",
       "      <td>40.582382</td>\n",
       "      <td>-73.983700</td>\n",
       "      <td>POINT (-73.9837 40.582382)</td>\n",
       "      <td>WEST 15 STREET</td>\n",
       "      <td>NaN</td>\n",
       "      <td>NaN</td>\n",
       "      <td>...</td>\n",
       "      <td>Unspecified</td>\n",
       "      <td>NaN</td>\n",
       "      <td>NaN</td>\n",
       "      <td>NaN</td>\n",
       "      <td>4321090</td>\n",
       "      <td>Taxi</td>\n",
       "      <td>Delivery t</td>\n",
       "      <td>NaN</td>\n",
       "      <td>NaN</td>\n",
       "      <td>NaN</td>\n",
       "    </tr>\n",
       "  </tbody>\n",
       "</table>\n",
       "<p>5 rows × 29 columns</p>\n",
       "</div>"
      ],
      "text/plain": [
       "      CRASH DATE CRASH TIME    BOROUGH  ZIP CODE   LATITUDE  LONGITUDE  \\\n",
       "71768     1/8/20   19:35:00     QUEENS   11375.0  40.730946 -73.848590   \n",
       "6647      8/6/20   11:00:00  MANHATTAN   10013.0  40.717100 -73.998600   \n",
       "80       8/29/20   20:35:00  MANHATTAN   10025.0  40.801563 -73.962370   \n",
       "21121    6/19/20    7:45:00        NaN       NaN  40.807213 -73.906334   \n",
       "21709    6/17/20   23:30:00        NaN       NaN  40.582382 -73.983700   \n",
       "\n",
       "                           LOCATION       ON STREET NAME CROSS STREET NAME  \\\n",
       "71768   POINT (-73.84859 40.730946)           108 STREET           65 ROAD   \n",
       "6647       POINT (-73.9986 40.7171)         CANAL STREET   MULBERRY STREET   \n",
       "80      POINT (-73.96237 40.801563)                  NaN               NaN   \n",
       "21121  POINT (-73.906334 40.807213)  BRUCKNER EXPRESSWAY               NaN   \n",
       "21709    POINT (-73.9837 40.582382)       WEST 15 STREET               NaN   \n",
       "\n",
       "           OFF STREET NAME  ...  CONTRIBUTING FACTOR VEHICLE 2  \\\n",
       "71768                  NaN  ...                    Unspecified   \n",
       "6647                   NaN  ...                    Unspecified   \n",
       "80     125 WEST 109 STREET  ...                            NaN   \n",
       "21121                  NaN  ...                    Unspecified   \n",
       "21709                  NaN  ...                    Unspecified   \n",
       "\n",
       "       CONTRIBUTING FACTOR VEHICLE 3  CONTRIBUTING FACTOR VEHICLE 4  \\\n",
       "71768                    Unspecified                            NaN   \n",
       "6647                             NaN                            NaN   \n",
       "80                               NaN                            NaN   \n",
       "21121                            NaN                            NaN   \n",
       "21709                            NaN                            NaN   \n",
       "\n",
       "       CONTRIBUTING FACTOR VEHICLE 5  COLLISION_ID  \\\n",
       "71768                            NaN       4270503   \n",
       "6647                             NaN       4335963   \n",
       "80                               NaN       4343181   \n",
       "21121                            NaN       4321344   \n",
       "21709                            NaN       4321090   \n",
       "\n",
       "                       VEHICLE TYPE CODE 1  VEHICLE TYPE CODE 2  \\\n",
       "71768                                Sedan                Sedan   \n",
       "6647                                 Sedan                  NaN   \n",
       "80     Station Wagon/Sport Utility Vehicle                  NaN   \n",
       "21121  Station Wagon/Sport Utility Vehicle                Sedan   \n",
       "21709                                 Taxi           Delivery t   \n",
       "\n",
       "                       VEHICLE TYPE CODE 3 VEHICLE TYPE CODE 4  \\\n",
       "71768  Station Wagon/Sport Utility Vehicle                 NaN   \n",
       "6647                                   NaN                 NaN   \n",
       "80                                     NaN                 NaN   \n",
       "21121                                  NaN                 NaN   \n",
       "21709                                  NaN                 NaN   \n",
       "\n",
       "      VEHICLE TYPE CODE 5  \n",
       "71768                 NaN  \n",
       "6647                  NaN  \n",
       "80                    NaN  \n",
       "21121                 NaN  \n",
       "21709                 NaN  \n",
       "\n",
       "[5 rows x 29 columns]"
      ]
     },
     "execution_count": 7,
     "metadata": {},
     "output_type": "execute_result"
    }
   ],
   "source": [
    "df.sample(5)"
   ]
  },
  {
   "cell_type": "code",
   "execution_count": 8,
   "metadata": {
    "tags": []
   },
   "outputs": [
    {
     "data": {
      "text/html": [
       "<div>\n",
       "<style scoped>\n",
       "    .dataframe tbody tr th:only-of-type {\n",
       "        vertical-align: middle;\n",
       "    }\n",
       "\n",
       "    .dataframe tbody tr th {\n",
       "        vertical-align: top;\n",
       "    }\n",
       "\n",
       "    .dataframe thead th {\n",
       "        text-align: right;\n",
       "    }\n",
       "</style>\n",
       "<table border=\"1\" class=\"dataframe\">\n",
       "  <thead>\n",
       "    <tr style=\"text-align: right;\">\n",
       "      <th></th>\n",
       "      <th>CRASH DATE</th>\n",
       "      <th>CRASH TIME</th>\n",
       "      <th>BOROUGH</th>\n",
       "      <th>ZIP CODE</th>\n",
       "      <th>LATITUDE</th>\n",
       "      <th>LONGITUDE</th>\n",
       "      <th>LOCATION</th>\n",
       "      <th>ON STREET NAME</th>\n",
       "      <th>CROSS STREET NAME</th>\n",
       "      <th>OFF STREET NAME</th>\n",
       "      <th>...</th>\n",
       "      <th>CONTRIBUTING FACTOR VEHICLE 2</th>\n",
       "      <th>CONTRIBUTING FACTOR VEHICLE 3</th>\n",
       "      <th>CONTRIBUTING FACTOR VEHICLE 4</th>\n",
       "      <th>CONTRIBUTING FACTOR VEHICLE 5</th>\n",
       "      <th>COLLISION_ID</th>\n",
       "      <th>VEHICLE TYPE CODE 1</th>\n",
       "      <th>VEHICLE TYPE CODE 2</th>\n",
       "      <th>VEHICLE TYPE CODE 3</th>\n",
       "      <th>VEHICLE TYPE CODE 4</th>\n",
       "      <th>VEHICLE TYPE CODE 5</th>\n",
       "    </tr>\n",
       "  </thead>\n",
       "  <tbody>\n",
       "    <tr>\n",
       "      <th>74876</th>\n",
       "      <td>1/1/20</td>\n",
       "      <td>15:13:00</td>\n",
       "      <td>BRONX</td>\n",
       "      <td>10459.0</td>\n",
       "      <td>40.826810</td>\n",
       "      <td>-73.896510</td>\n",
       "      <td>POINT (-73.89651 40.82681)</td>\n",
       "      <td>NaN</td>\n",
       "      <td>NaN</td>\n",
       "      <td>1122 INTERVALE AVENUE</td>\n",
       "      <td>...</td>\n",
       "      <td>NaN</td>\n",
       "      <td>NaN</td>\n",
       "      <td>NaN</td>\n",
       "      <td>NaN</td>\n",
       "      <td>4268088</td>\n",
       "      <td>Sedan</td>\n",
       "      <td>NaN</td>\n",
       "      <td>NaN</td>\n",
       "      <td>NaN</td>\n",
       "      <td>NaN</td>\n",
       "    </tr>\n",
       "    <tr>\n",
       "      <th>74877</th>\n",
       "      <td>1/1/20</td>\n",
       "      <td>8:00:00</td>\n",
       "      <td>BROOKLYN</td>\n",
       "      <td>11235.0</td>\n",
       "      <td>40.582935</td>\n",
       "      <td>-73.959210</td>\n",
       "      <td>POINT (-73.95921 40.582935)</td>\n",
       "      <td>NaN</td>\n",
       "      <td>NaN</td>\n",
       "      <td>3401 GUIDER AVENUE</td>\n",
       "      <td>...</td>\n",
       "      <td>Unspecified</td>\n",
       "      <td>Unspecified</td>\n",
       "      <td>NaN</td>\n",
       "      <td>NaN</td>\n",
       "      <td>4267756</td>\n",
       "      <td>Station Wagon/Sport Utility Vehicle</td>\n",
       "      <td>Station Wagon/Sport Utility Vehicle</td>\n",
       "      <td>Station Wagon/Sport Utility Vehicle</td>\n",
       "      <td>NaN</td>\n",
       "      <td>NaN</td>\n",
       "    </tr>\n",
       "    <tr>\n",
       "      <th>74878</th>\n",
       "      <td>1/1/20</td>\n",
       "      <td>11:36:00</td>\n",
       "      <td>BRONX</td>\n",
       "      <td>10461.0</td>\n",
       "      <td>40.848553</td>\n",
       "      <td>-73.830055</td>\n",
       "      <td>POINT (-73.830055 40.848553)</td>\n",
       "      <td>NaN</td>\n",
       "      <td>NaN</td>\n",
       "      <td>1810 MAHAN AVENUE</td>\n",
       "      <td>...</td>\n",
       "      <td>Unspecified</td>\n",
       "      <td>NaN</td>\n",
       "      <td>NaN</td>\n",
       "      <td>NaN</td>\n",
       "      <td>4269230</td>\n",
       "      <td>Sedan</td>\n",
       "      <td>Pick-up Truck</td>\n",
       "      <td>NaN</td>\n",
       "      <td>NaN</td>\n",
       "      <td>NaN</td>\n",
       "    </tr>\n",
       "    <tr>\n",
       "      <th>74879</th>\n",
       "      <td>1/1/20</td>\n",
       "      <td>1:45:00</td>\n",
       "      <td>MANHATTAN</td>\n",
       "      <td>10017.0</td>\n",
       "      <td>40.753624</td>\n",
       "      <td>-73.969440</td>\n",
       "      <td>POINT (-73.96944 40.753624)</td>\n",
       "      <td>EAST 48 STREET</td>\n",
       "      <td>2 AVENUE</td>\n",
       "      <td>NaN</td>\n",
       "      <td>...</td>\n",
       "      <td>Driver Inattention/Distraction</td>\n",
       "      <td>NaN</td>\n",
       "      <td>NaN</td>\n",
       "      <td>NaN</td>\n",
       "      <td>4267482</td>\n",
       "      <td>Sedan</td>\n",
       "      <td>Taxi</td>\n",
       "      <td>NaN</td>\n",
       "      <td>NaN</td>\n",
       "      <td>NaN</td>\n",
       "    </tr>\n",
       "    <tr>\n",
       "      <th>74880</th>\n",
       "      <td>1/1/20</td>\n",
       "      <td>18:00:00</td>\n",
       "      <td>QUEENS</td>\n",
       "      <td>11367.0</td>\n",
       "      <td>40.726875</td>\n",
       "      <td>-73.830960</td>\n",
       "      <td>POINT (-73.83096 40.726875)</td>\n",
       "      <td>NaN</td>\n",
       "      <td>NaN</td>\n",
       "      <td>70-25 PARK DRIVE EAST</td>\n",
       "      <td>...</td>\n",
       "      <td>Driver Inattention/Distraction</td>\n",
       "      <td>NaN</td>\n",
       "      <td>NaN</td>\n",
       "      <td>NaN</td>\n",
       "      <td>4268376</td>\n",
       "      <td>Sedan</td>\n",
       "      <td>Station Wagon/Sport Utility Vehicle</td>\n",
       "      <td>NaN</td>\n",
       "      <td>NaN</td>\n",
       "      <td>NaN</td>\n",
       "    </tr>\n",
       "  </tbody>\n",
       "</table>\n",
       "<p>5 rows × 29 columns</p>\n",
       "</div>"
      ],
      "text/plain": [
       "      CRASH DATE CRASH TIME    BOROUGH  ZIP CODE   LATITUDE  LONGITUDE  \\\n",
       "74876     1/1/20   15:13:00      BRONX   10459.0  40.826810 -73.896510   \n",
       "74877     1/1/20    8:00:00   BROOKLYN   11235.0  40.582935 -73.959210   \n",
       "74878     1/1/20   11:36:00      BRONX   10461.0  40.848553 -73.830055   \n",
       "74879     1/1/20    1:45:00  MANHATTAN   10017.0  40.753624 -73.969440   \n",
       "74880     1/1/20   18:00:00     QUEENS   11367.0  40.726875 -73.830960   \n",
       "\n",
       "                           LOCATION  ON STREET NAME CROSS STREET NAME  \\\n",
       "74876    POINT (-73.89651 40.82681)             NaN               NaN   \n",
       "74877   POINT (-73.95921 40.582935)             NaN               NaN   \n",
       "74878  POINT (-73.830055 40.848553)             NaN               NaN   \n",
       "74879   POINT (-73.96944 40.753624)  EAST 48 STREET          2 AVENUE   \n",
       "74880   POINT (-73.83096 40.726875)             NaN               NaN   \n",
       "\n",
       "             OFF STREET NAME  ...   CONTRIBUTING FACTOR VEHICLE 2  \\\n",
       "74876  1122 INTERVALE AVENUE  ...                             NaN   \n",
       "74877     3401 GUIDER AVENUE  ...                     Unspecified   \n",
       "74878      1810 MAHAN AVENUE  ...                     Unspecified   \n",
       "74879                    NaN  ...  Driver Inattention/Distraction   \n",
       "74880  70-25 PARK DRIVE EAST  ...  Driver Inattention/Distraction   \n",
       "\n",
       "       CONTRIBUTING FACTOR VEHICLE 3  CONTRIBUTING FACTOR VEHICLE 4  \\\n",
       "74876                            NaN                            NaN   \n",
       "74877                    Unspecified                            NaN   \n",
       "74878                            NaN                            NaN   \n",
       "74879                            NaN                            NaN   \n",
       "74880                            NaN                            NaN   \n",
       "\n",
       "       CONTRIBUTING FACTOR VEHICLE 5  COLLISION_ID  \\\n",
       "74876                            NaN       4268088   \n",
       "74877                            NaN       4267756   \n",
       "74878                            NaN       4269230   \n",
       "74879                            NaN       4267482   \n",
       "74880                            NaN       4268376   \n",
       "\n",
       "                       VEHICLE TYPE CODE 1  \\\n",
       "74876                                Sedan   \n",
       "74877  Station Wagon/Sport Utility Vehicle   \n",
       "74878                                Sedan   \n",
       "74879                                Sedan   \n",
       "74880                                Sedan   \n",
       "\n",
       "                       VEHICLE TYPE CODE 2  \\\n",
       "74876                                  NaN   \n",
       "74877  Station Wagon/Sport Utility Vehicle   \n",
       "74878                        Pick-up Truck   \n",
       "74879                                 Taxi   \n",
       "74880  Station Wagon/Sport Utility Vehicle   \n",
       "\n",
       "                       VEHICLE TYPE CODE 3 VEHICLE TYPE CODE 4  \\\n",
       "74876                                  NaN                 NaN   \n",
       "74877  Station Wagon/Sport Utility Vehicle                 NaN   \n",
       "74878                                  NaN                 NaN   \n",
       "74879                                  NaN                 NaN   \n",
       "74880                                  NaN                 NaN   \n",
       "\n",
       "      VEHICLE TYPE CODE 5  \n",
       "74876                 NaN  \n",
       "74877                 NaN  \n",
       "74878                 NaN  \n",
       "74879                 NaN  \n",
       "74880                 NaN  \n",
       "\n",
       "[5 rows x 29 columns]"
      ]
     },
     "execution_count": 8,
     "metadata": {},
     "output_type": "execute_result"
    }
   ],
   "source": [
    "df.tail(5)"
   ]
  },
  {
   "cell_type": "markdown",
   "metadata": {},
   "source": [
    "**3. describe the rows and data types**"
   ]
  },
  {
   "cell_type": "code",
   "execution_count": 9,
   "metadata": {
    "tags": []
   },
   "outputs": [
    {
     "name": "stdout",
     "output_type": "stream",
     "text": [
      "Index(['CRASH DATE', 'CRASH TIME', 'BOROUGH', 'ZIP CODE', 'LATITUDE',\n",
      "       'LONGITUDE', 'LOCATION', 'ON STREET NAME', 'CROSS STREET NAME',\n",
      "       'OFF STREET NAME', 'NUMBER OF PERSONS INJURED',\n",
      "       'NUMBER OF PERSONS KILLED', 'NUMBER OF PEDESTRIANS INJURED',\n",
      "       'NUMBER OF PEDESTRIANS KILLED', 'NUMBER OF CYCLIST INJURED',\n",
      "       'NUMBER OF CYCLIST KILLED', 'NUMBER OF MOTORIST INJURED',\n",
      "       'NUMBER OF MOTORIST KILLED', 'CONTRIBUTING FACTOR VEHICLE 1',\n",
      "       'CONTRIBUTING FACTOR VEHICLE 2', 'CONTRIBUTING FACTOR VEHICLE 3',\n",
      "       'CONTRIBUTING FACTOR VEHICLE 4', 'CONTRIBUTING FACTOR VEHICLE 5',\n",
      "       'COLLISION_ID', 'VEHICLE TYPE CODE 1', 'VEHICLE TYPE CODE 2',\n",
      "       'VEHICLE TYPE CODE 3', 'VEHICLE TYPE CODE 4', 'VEHICLE TYPE CODE 5'],\n",
      "      dtype='object')\n",
      "CRASH DATE                        object\n",
      "CRASH TIME                        object\n",
      "BOROUGH                           object\n",
      "ZIP CODE                         float64\n",
      "LATITUDE                         float64\n",
      "LONGITUDE                        float64\n",
      "LOCATION                          object\n",
      "ON STREET NAME                    object\n",
      "CROSS STREET NAME                 object\n",
      "OFF STREET NAME                   object\n",
      "NUMBER OF PERSONS INJURED          int64\n",
      "NUMBER OF PERSONS KILLED           int64\n",
      "NUMBER OF PEDESTRIANS INJURED      int64\n",
      "NUMBER OF PEDESTRIANS KILLED       int64\n",
      "NUMBER OF CYCLIST INJURED          int64\n",
      "NUMBER OF CYCLIST KILLED           int64\n",
      "NUMBER OF MOTORIST INJURED         int64\n",
      "NUMBER OF MOTORIST KILLED          int64\n",
      "CONTRIBUTING FACTOR VEHICLE 1     object\n",
      "CONTRIBUTING FACTOR VEHICLE 2     object\n",
      "CONTRIBUTING FACTOR VEHICLE 3     object\n",
      "CONTRIBUTING FACTOR VEHICLE 4     object\n",
      "CONTRIBUTING FACTOR VEHICLE 5     object\n",
      "COLLISION_ID                       int64\n",
      "VEHICLE TYPE CODE 1               object\n",
      "VEHICLE TYPE CODE 2               object\n",
      "VEHICLE TYPE CODE 3               object\n",
      "VEHICLE TYPE CODE 4               object\n",
      "VEHICLE TYPE CODE 5               object\n",
      "dtype: object\n"
     ]
    }
   ],
   "source": [
    "print(df.columns)\n",
    "print(df.dtypes)"
   ]
  },
  {
   "cell_type": "code",
   "execution_count": 10,
   "metadata": {
    "tags": []
   },
   "outputs": [
    {
     "name": "stdout",
     "output_type": "stream",
     "text": [
      "<class 'pandas.core.frame.DataFrame'>\n",
      "RangeIndex: 74881 entries, 0 to 74880\n",
      "Data columns (total 29 columns):\n",
      " #   Column                         Non-Null Count  Dtype  \n",
      "---  ------                         --------------  -----  \n",
      " 0   CRASH DATE                     74881 non-null  object \n",
      " 1   CRASH TIME                     74881 non-null  object \n",
      " 2   BOROUGH                        49140 non-null  object \n",
      " 3   ZIP CODE                       49134 non-null  float64\n",
      " 4   LATITUDE                       68935 non-null  float64\n",
      " 5   LONGITUDE                      68935 non-null  float64\n",
      " 6   LOCATION                       68935 non-null  object \n",
      " 7   ON STREET NAME                 55444 non-null  object \n",
      " 8   CROSS STREET NAME              35681 non-null  object \n",
      " 9   OFF STREET NAME                19437 non-null  object \n",
      " 10  NUMBER OF PERSONS INJURED      74881 non-null  int64  \n",
      " 11  NUMBER OF PERSONS KILLED       74881 non-null  int64  \n",
      " 12  NUMBER OF PEDESTRIANS INJURED  74881 non-null  int64  \n",
      " 13  NUMBER OF PEDESTRIANS KILLED   74881 non-null  int64  \n",
      " 14  NUMBER OF CYCLIST INJURED      74881 non-null  int64  \n",
      " 15  NUMBER OF CYCLIST KILLED       74881 non-null  int64  \n",
      " 16  NUMBER OF MOTORIST INJURED     74881 non-null  int64  \n",
      " 17  NUMBER OF MOTORIST KILLED      74881 non-null  int64  \n",
      " 18  CONTRIBUTING FACTOR VEHICLE 1  74577 non-null  object \n",
      " 19  CONTRIBUTING FACTOR VEHICLE 2  59285 non-null  object \n",
      " 20  CONTRIBUTING FACTOR VEHICLE 3  6765 non-null   object \n",
      " 21  CONTRIBUTING FACTOR VEHICLE 4  1851 non-null   object \n",
      " 22  CONTRIBUTING FACTOR VEHICLE 5  523 non-null    object \n",
      " 23  COLLISION_ID                   74881 non-null  int64  \n",
      " 24  VEHICLE TYPE CODE 1            74246 non-null  object \n",
      " 25  VEHICLE TYPE CODE 2            53638 non-null  object \n",
      " 26  VEHICLE TYPE CODE 3            6424 non-null   object \n",
      " 27  VEHICLE TYPE CODE 4            1771 non-null   object \n",
      " 28  VEHICLE TYPE CODE 5            503 non-null    object \n",
      "dtypes: float64(3), int64(9), object(17)\n",
      "memory usage: 16.6+ MB\n"
     ]
    }
   ],
   "source": [
    "df.info()"
   ]
  },
  {
   "cell_type": "markdown",
   "metadata": {},
   "source": [
    "* list out the columns that look like they have the \"wrong\" (or too wide) type\n",
    "-  CRASH DATE  datetime\n",
    "-  CRASH TIME  datetime\n"
   ]
  },
  {
   "cell_type": "code",
   "execution_count": 11,
   "metadata": {
    "tags": []
   },
   "outputs": [
    {
     "name": "stderr",
     "output_type": "stream",
     "text": [
      "/var/folders/lp/m8ck1h455hd24834n0mwd8f40000gn/T/ipykernel_52983/4139684328.py:1: UserWarning: Could not infer format, so each element will be parsed individually, falling back to `dateutil`. To ensure parsing is consistent and as-expected, please specify a format.\n",
      "  df['CRASH DATE'] = pd.to_datetime(df['CRASH DATE'])\n"
     ]
    }
   ],
   "source": [
    "df['CRASH DATE'] = pd.to_datetime(df['CRASH DATE'])"
   ]
  },
  {
   "cell_type": "code",
   "execution_count": 12,
   "metadata": {
    "tags": []
   },
   "outputs": [
    {
     "name": "stderr",
     "output_type": "stream",
     "text": [
      "/var/folders/lp/m8ck1h455hd24834n0mwd8f40000gn/T/ipykernel_52983/1523198742.py:1: UserWarning: Could not infer format, so each element will be parsed individually, falling back to `dateutil`. To ensure parsing is consistent and as-expected, please specify a format.\n",
      "  df['CRASH TIME'] = pd.to_datetime(df['CRASH TIME']).dt.time\n"
     ]
    }
   ],
   "source": [
    "df['CRASH TIME'] = pd.to_datetime(df['CRASH TIME']).dt.time"
   ]
  },
  {
   "cell_type": "markdown",
   "metadata": {},
   "source": [
    "**4 initial column (or row) clean-up**"
   ]
  },
  {
   "cell_type": "code",
   "execution_count": 13,
   "metadata": {
    "tags": []
   },
   "outputs": [],
   "source": [
    "df = df.drop(['CONTRIBUTING FACTOR VEHICLE 4', 'CONTRIBUTING FACTOR VEHICLE 5','VEHICLE TYPE CODE 5','VEHICLE TYPE CODE 4','CONTRIBUTING FACTOR VEHICLE 3','VEHICLE TYPE CODE 3'], axis = 1)"
   ]
  },
  {
   "cell_type": "markdown",
   "metadata": {
    "tags": []
   },
   "source": [
    "* reason of remove:\n",
    "    Through the data information, I found these six columns has the most NaN which means they are unnessary and will not affect the result too much.The prevalence of NaNs suggests that these columns will not provide substantial information for the analysis. Thus clean them and focus on the efficient columns."
   ]
  },
  {
   "cell_type": "code",
   "execution_count": 23,
   "metadata": {
    "tags": []
   },
   "outputs": [],
   "source": [
    "df.rename(columns={'CRASH TIME': 'ACCIDENT TIME'}, inplace=True)"
   ]
  },
  {
   "cell_type": "markdown",
   "metadata": {},
   "source": [
    "I change crash time since it always makes me to think about the crash date and mix them together. I thought time can be the date as well. So to distinguish them, I will change the name. "
   ]
  },
  {
   "cell_type": "code",
   "execution_count": 25,
   "metadata": {
    "tags": []
   },
   "outputs": [
    {
     "data": {
      "text/plain": [
       "CRASH DATE                       74881\n",
       "NUMBER OF PERSONS INJURED        74881\n",
       "COLLISION_ID                     74881\n",
       "NUMBER OF MOTORIST KILLED        74881\n",
       "NUMBER OF MOTORIST INJURED       74881\n",
       "NUMBER OF CYCLIST KILLED         74881\n",
       "NUMBER OF CYCLIST INJURED        74881\n",
       "NUMBER OF PEDESTRIANS KILLED     74881\n",
       "NUMBER OF PEDESTRIANS INJURED    74881\n",
       "ACCIDENT TIME                    74881\n",
       "NUMBER OF PERSONS KILLED         74881\n",
       "CONTRIBUTING FACTOR VEHICLE 1    74577\n",
       "VEHICLE TYPE CODE 1              74246\n",
       "LOCATION                         68935\n",
       "LONGITUDE                        68935\n",
       "LATITUDE                         68935\n",
       "CONTRIBUTING FACTOR VEHICLE 2    59285\n",
       "ON STREET NAME                   55444\n",
       "VEHICLE TYPE CODE 2              53638\n",
       "BOROUGH                          49140\n",
       "ZIP CODE                         49134\n",
       "CROSS STREET NAME                35681\n",
       "OFF STREET NAME                  19437\n",
       "dtype: int64"
      ]
     },
     "execution_count": 25,
     "metadata": {},
     "output_type": "execute_result"
    }
   ],
   "source": [
    "non_null_counts = df.notnull().sum()\n",
    "sorted_non_null_counts = non_null_counts.sort_values(ascending=False)\n",
    "sorted_non_null_counts"
   ]
  },
  {
   "cell_type": "markdown",
   "metadata": {},
   "source": [
    "**5  extract the street name from the dataset**"
   ]
  },
  {
   "cell_type": "code",
   "execution_count": 26,
   "metadata": {
    "tags": []
   },
   "outputs": [],
   "source": [
    "street = df['ON STREET NAME']"
   ]
  },
  {
   "cell_type": "code",
   "execution_count": 27,
   "metadata": {
    "tags": []
   },
   "outputs": [
    {
     "data": {
      "text/plain": [
       "ON STREET NAME\n",
       "BELT PARKWAY                  1241\n",
       "LONG ISLAND EXPRESSWAY         745\n",
       "BROOKLYN QUEENS EXPRESSWAY     738\n",
       "FDR DRIVE                      728\n",
       "MAJOR DEEGAN EXPRESSWAY        591\n",
       "                              ... \n",
       "GULF AVENUE                      1\n",
       "E 170 St                         1\n",
       "BAYSIDE LANE                     1\n",
       "ES KOCH BRIDGE                   1\n",
       "CRESSKILL PLACE                  1\n",
       "Name: count, Length: 4009, dtype: int64"
      ]
     },
     "execution_count": 27,
     "metadata": {},
     "output_type": "execute_result"
    }
   ],
   "source": [
    "# drop Nan and count how many times does each street appears.\n",
    "street = street.dropna().value_counts()\n",
    "street"
   ]
  },
  {
   "cell_type": "code",
   "execution_count": 28,
   "metadata": {
    "tags": []
   },
   "outputs": [
    {
     "data": {
      "text/plain": [
       "ON STREET NAME\n",
       "BELT PARKWAY                  1241\n",
       "LONG ISLAND EXPRESSWAY         745\n",
       "BROOKLYN QUEENS EXPRESSWAY     738\n",
       "Name: count, dtype: int64"
      ]
     },
     "execution_count": 28,
     "metadata": {},
     "output_type": "execute_result"
    }
   ],
   "source": [
    "# pick the top three streets that had the most accidents\n",
    "street.head(3)"
   ]
  },
  {
   "cell_type": "markdown",
   "metadata": {},
   "source": [
    "**6. shows the number of accidents that occurred at each borough**"
   ]
  },
  {
   "cell_type": "code",
   "execution_count": 29,
   "metadata": {
    "tags": []
   },
   "outputs": [
    {
     "data": {
      "image/png": "[encoded data removed]",
      "text/plain": [
       "<Figure size 1000x600 with 1 Axes>"
      ]
     },
     "metadata": {},
     "output_type": "display_data"
    }
   ],
   "source": [
    "\n",
    "#import matplotlib\n",
    "import matplotlib.pyplot as plt\n",
    "\n",
    "# replace Nan as other\n",
    "df['BOROUGH'].fillna('other')\n",
    "\n",
    "# take out the required borough\n",
    "main = ['BRONX', 'BROOKLYN', 'QUEENS', 'MANHATTAN']\n",
    "\n",
    "#everything else except the requirment will goes to \"other\"\n",
    "df_new = df['BOROUGH'].apply(lambda x : x if x in main else 'other')\n",
    "\n",
    "# count the number of appearance of each borough in main\n",
    "counts = df_new.value_counts()\n",
    "\n",
    "# plot the bar graph within label and title\n",
    "counts.plot(kind='bar', figsize=(10, 6))\n",
    "plt.title('comparison of the number of the accidents by borough')\n",
    "plt.xlabel('Borough')\n",
    "plt.ylabel('Num of accidents')\n",
    "plt.xticks(rotation=45)\n",
    "plt.show()"
   ]
  },
  {
   "cell_type": "markdown",
   "metadata": {},
   "source": [
    "**7. calculate summary statistics for the number of persons injured in all NYC and for a couple of selected boroughs (you can choose the two boroughs)**"
   ]
  },
  {
   "cell_type": "code",
   "execution_count": 22,
   "metadata": {
    "tags": []
   },
   "outputs": [
    {
     "name": "stdout",
     "output_type": "stream",
     "text": [
      "count    74881.000000\n",
      "mean         0.366555\n",
      "std          0.726178\n",
      "min          0.000000\n",
      "25%          0.000000\n",
      "50%          0.000000\n",
      "75%          1.000000\n",
      "max         15.000000\n",
      "Name: NUMBER OF PERSONS INJURED, dtype: float64\n",
      "median 0.5463664381264312\n"
     ]
    }
   ],
   "source": [
    "# find the mean,percentiles (25 and 75), max, and min\n",
    "people_nyc = df['NUMBER OF PERSONS INJURED'].describe()\n",
    "print(people_nyc)\n",
    "# find the median\n",
    "print('median', people_nyc.median())"
   ]
  },
  {
   "cell_type": "code",
   "execution_count": 32,
   "metadata": {
    "tags": []
   },
   "outputs": [
    {
     "name": "stdout",
     "output_type": "stream",
     "text": [
      "BRONX\n",
      "count    9417.000000\n",
      "mean        0.343209\n",
      "std         0.695656\n",
      "min         0.000000\n",
      "25%         0.000000\n",
      "50%         0.000000\n",
      "75%         1.000000\n",
      "max         9.000000\n",
      "Name: NUMBER OF PERSONS INJURED, dtype: float64\n",
      "median 0.519432349706564 \n",
      "\n",
      "QUEENS\n",
      "count    14017.000000\n",
      "mean         0.328173\n",
      "std          0.665653\n",
      "min          0.000000\n",
      "25%          0.000000\n",
      "50%          0.000000\n",
      "75%          1.000000\n",
      "max          7.000000\n",
      "Name: NUMBER OF PERSONS INJURED, dtype: float64\n",
      "median 0.4969129711610628\n"
     ]
    }
   ],
   "source": [
    "# extract the data from Bronx and Queens and find the mean,percentiles (25 and 75), max, and min of each \n",
    "people_bronx = df[df['BOROUGH'] == 'BRONX']['NUMBER OF PERSONS INJURED'].describe()\n",
    "people_queens = df[df['BOROUGH'] == 'QUEENS']['NUMBER OF PERSONS INJURED'].describe()\n",
    "\n",
    "# print and find the median of each\n",
    "print('BRONX')\n",
    "print(people_bronx)\n",
    "print('median', people_bronx.median(),'\\n')\n",
    "print('QUEENS')\n",
    "print(people_queens)\n",
    "print('median', people_queens.median())"
   ]
  },
  {
   "cell_type": "markdown",
   "metadata": {},
   "source": [
    "In the statistics information, I found Queens has more accidents than Bronx.For Bronx, the max injured people in one accident is 9, while for Queens, the max injured people in one accident is 7. Both boroughs have a significant number of accidents with no injuries, as reflected by the 25th, 50th percentiles, and the minimum value. The Bronx has a slightly higher average number of persons injured per accident than Queens, although the difference is minor. When comparing the two medians, they are quite close, with the Bronx having a slightly higher median number of injuries per accident. This could imply that while both boroughs see a majority of accidents without injuries, the Bronx has a slightly higher tendency towards accidents resulting in injury.\n"
   ]
  },
  {
   "cell_type": "markdown",
   "metadata": {},
   "source": [
    "**8. what are the distributions of accidents based on the geo location (latitude & longitude)?**"
   ]
  },
  {
   "cell_type": "code",
   "execution_count": 30,
   "metadata": {
    "tags": []
   },
   "outputs": [
    {
     "data": {
      "image/png": "[encoded data removed]",
      "text/plain": [
       "<Figure size 1000x600 with 1 Axes>"
      ]
     },
     "metadata": {},
     "output_type": "display_data"
    }
   ],
   "source": [
    "\n",
    "# drop Nan in the borough \n",
    "df['BOROUGH'].dropna(axis=0, inplace = False)\n",
    "\n",
    "# count the num of accident of each borough\n",
    "count_all = df['BOROUGH'].value_counts()\n",
    "\n",
    "#plot the bar graph to shows the accidents that occurred at each borough.\n",
    "count_all.plot(kind='bar', figsize=(10, 6))\n",
    "\n",
    "plt.title('comparison of the number of the accidents by borough')\n",
    "plt.xlabel('Borough')\n",
    "plt.ylabel('Num of accidents')\n",
    "plt.xticks(rotation=45)\n",
    "plt.show()"
   ]
  },
  {
   "cell_type": "code",
   "execution_count": 31,
   "metadata": {
    "tags": []
   },
   "outputs": [
    {
     "data": {
      "image/png": "[encoded data removed]",
      "text/plain": [
       "<Figure size 640x480 with 1 Axes>"
      ]
     },
     "metadata": {},
     "output_type": "display_data"
    }
   ],
   "source": [
    "# drop Nan in both Latitude and Longtitude and make sure they are not equal to 0\n",
    "\n",
    "df['LATITUDE'].dropna(axis =0)\n",
    "df['LONGITUDE'].dropna(axis =0)\n",
    "df = df[df['LATITUDE'] != 0]\n",
    "df = df[df['LONGITUDE'] != 0]\n",
    "\n",
    "# pick color for each borough and save in the borough_colors\n",
    "borough_colors = {\n",
    "    'MANHATTAN': 'red',\n",
    "    'BROOKLYN': 'green',\n",
    "    'QUEENS': 'blue',\n",
    "    'BRONX': 'yellow',\n",
    "    'STATEN ISLAND': 'purple',  \n",
    "}\n",
    "\n",
    "# for each borough color in the borough_colors, if it is same to the borough in database, \n",
    "# plot the scatter graph of its longtitude and latitude with the assigned color\n",
    "for borough, color in borough_colors.items():\n",
    "    borough_df = df[df['BOROUGH'] == borough]\n",
    "    plt.scatter(borough_df['LATITUDE'], borough_df['LONGITUDE'], alpha=0.5, label=borough, color=color)\n",
    "\n",
    "#plot the label\n",
    "plt.xlabel('Latitude')\n",
    "plt.ylabel('Longitude')\n",
    "plt.title('NYC Traffic Accidents Geolocation Distribution by Borough')\n",
    "plt.legend()\n",
    "plt.show()"
   ]
  },
  {
   "cell_type": "markdown",
   "metadata": {},
   "source": [
    "**9 shows the covariance between each pair of the columns**"
   ]
  },
  {
   "cell_type": "code",
   "execution_count": 35,
   "metadata": {
    "tags": []
   },
   "outputs": [
    {
     "data": {
      "text/html": [
       "<div>\n",
       "<style scoped>\n",
       "    .dataframe tbody tr th:only-of-type {\n",
       "        vertical-align: middle;\n",
       "    }\n",
       "\n",
       "    .dataframe tbody tr th {\n",
       "        vertical-align: top;\n",
       "    }\n",
       "\n",
       "    .dataframe thead th {\n",
       "        text-align: right;\n",
       "    }\n",
       "</style>\n",
       "<table border=\"1\" class=\"dataframe\">\n",
       "  <thead>\n",
       "    <tr style=\"text-align: right;\">\n",
       "      <th></th>\n",
       "      <th>NUMBER OF PERSONS INJURED</th>\n",
       "      <th>NUMBER OF PERSONS KILLED</th>\n",
       "      <th>NUMBER OF PEDESTRIANS INJURED</th>\n",
       "      <th>NUMBER OF PEDESTRIANS KILLED</th>\n",
       "      <th>NUMBER OF CYCLIST INJURED</th>\n",
       "      <th>NUMBER OF CYCLIST KILLED</th>\n",
       "      <th>NUMBER OF MOTORIST INJURED</th>\n",
       "      <th>NUMBER OF MOTORIST KILLED</th>\n",
       "    </tr>\n",
       "  </thead>\n",
       "  <tbody>\n",
       "    <tr>\n",
       "      <th>NUMBER OF PERSONS INJURED</th>\n",
       "      <td>0.527567</td>\n",
       "      <td>0.000618</td>\n",
       "      <td>4.205490e-02</td>\n",
       "      <td>-4.717365e-05</td>\n",
       "      <td>0.031002</td>\n",
       "      <td>-4.409915e-05</td>\n",
       "      <td>0.454510</td>\n",
       "      <td>7.089150e-04</td>\n",
       "    </tr>\n",
       "    <tr>\n",
       "      <th>NUMBER OF PERSONS KILLED</th>\n",
       "      <td>0.000618</td>\n",
       "      <td>0.002269</td>\n",
       "      <td>-5.190599e-05</td>\n",
       "      <td>7.604183e-04</td>\n",
       "      <td>-0.000071</td>\n",
       "      <td>1.200620e-04</td>\n",
       "      <td>0.000740</td>\n",
       "      <td>1.388026e-03</td>\n",
       "    </tr>\n",
       "    <tr>\n",
       "      <th>NUMBER OF PEDESTRIANS INJURED</th>\n",
       "      <td>0.042055</td>\n",
       "      <td>-0.000052</td>\n",
       "      <td>5.645454e-02</td>\n",
       "      <td>-8.792963e-07</td>\n",
       "      <td>-0.001819</td>\n",
       "      <td>-6.585611e-06</td>\n",
       "      <td>-0.012580</td>\n",
       "      <td>-4.444108e-05</td>\n",
       "    </tr>\n",
       "    <tr>\n",
       "      <th>NUMBER OF PEDESTRIANS KILLED</th>\n",
       "      <td>-0.000047</td>\n",
       "      <td>0.000760</td>\n",
       "      <td>-8.792963e-07</td>\n",
       "      <td>7.479328e-04</td>\n",
       "      <td>-0.000019</td>\n",
       "      <td>-9.003765e-08</td>\n",
       "      <td>-0.000027</td>\n",
       "      <td>1.257562e-05</td>\n",
       "    </tr>\n",
       "    <tr>\n",
       "      <th>NUMBER OF CYCLIST INJURED</th>\n",
       "      <td>0.031002</td>\n",
       "      <td>-0.000071</td>\n",
       "      <td>-1.819500e-03</td>\n",
       "      <td>-1.936774e-05</td>\n",
       "      <td>0.044013</td>\n",
       "      <td>-5.260771e-06</td>\n",
       "      <td>-0.011191</td>\n",
       "      <td>-4.617788e-05</td>\n",
       "    </tr>\n",
       "    <tr>\n",
       "      <th>NUMBER OF CYCLIST KILLED</th>\n",
       "      <td>-0.000044</td>\n",
       "      <td>0.000120</td>\n",
       "      <td>-6.585611e-06</td>\n",
       "      <td>-9.003765e-08</td>\n",
       "      <td>-0.000005</td>\n",
       "      <td>1.202790e-04</td>\n",
       "      <td>-0.000032</td>\n",
       "      <td>-1.270174e-07</td>\n",
       "    </tr>\n",
       "    <tr>\n",
       "      <th>NUMBER OF MOTORIST INJURED</th>\n",
       "      <td>0.454510</td>\n",
       "      <td>0.000740</td>\n",
       "      <td>-1.258014e-02</td>\n",
       "      <td>-2.692662e-05</td>\n",
       "      <td>-0.011191</td>\n",
       "      <td>-3.225277e-05</td>\n",
       "      <td>0.478281</td>\n",
       "      <td>7.995340e-04</td>\n",
       "    </tr>\n",
       "    <tr>\n",
       "      <th>NUMBER OF MOTORIST KILLED</th>\n",
       "      <td>0.000709</td>\n",
       "      <td>0.001388</td>\n",
       "      <td>-4.444108e-05</td>\n",
       "      <td>1.257562e-05</td>\n",
       "      <td>-0.000046</td>\n",
       "      <td>-1.270174e-07</td>\n",
       "      <td>0.000800</td>\n",
       "      <td>1.375578e-03</td>\n",
       "    </tr>\n",
       "  </tbody>\n",
       "</table>\n",
       "</div>"
      ],
      "text/plain": [
       "                               NUMBER OF PERSONS INJURED  \\\n",
       "NUMBER OF PERSONS INJURED                       0.527567   \n",
       "NUMBER OF PERSONS KILLED                        0.000618   \n",
       "NUMBER OF PEDESTRIANS INJURED                   0.042055   \n",
       "NUMBER OF PEDESTRIANS KILLED                   -0.000047   \n",
       "NUMBER OF CYCLIST INJURED                       0.031002   \n",
       "NUMBER OF CYCLIST KILLED                       -0.000044   \n",
       "NUMBER OF MOTORIST INJURED                      0.454510   \n",
       "NUMBER OF MOTORIST KILLED                       0.000709   \n",
       "\n",
       "                               NUMBER OF PERSONS KILLED  \\\n",
       "NUMBER OF PERSONS INJURED                      0.000618   \n",
       "NUMBER OF PERSONS KILLED                       0.002269   \n",
       "NUMBER OF PEDESTRIANS INJURED                 -0.000052   \n",
       "NUMBER OF PEDESTRIANS KILLED                   0.000760   \n",
       "NUMBER OF CYCLIST INJURED                     -0.000071   \n",
       "NUMBER OF CYCLIST KILLED                       0.000120   \n",
       "NUMBER OF MOTORIST INJURED                     0.000740   \n",
       "NUMBER OF MOTORIST KILLED                      0.001388   \n",
       "\n",
       "                               NUMBER OF PEDESTRIANS INJURED  \\\n",
       "NUMBER OF PERSONS INJURED                       4.205490e-02   \n",
       "NUMBER OF PERSONS KILLED                       -5.190599e-05   \n",
       "NUMBER OF PEDESTRIANS INJURED                   5.645454e-02   \n",
       "NUMBER OF PEDESTRIANS KILLED                   -8.792963e-07   \n",
       "NUMBER OF CYCLIST INJURED                      -1.819500e-03   \n",
       "NUMBER OF CYCLIST KILLED                       -6.585611e-06   \n",
       "NUMBER OF MOTORIST INJURED                     -1.258014e-02   \n",
       "NUMBER OF MOTORIST KILLED                      -4.444108e-05   \n",
       "\n",
       "                               NUMBER OF PEDESTRIANS KILLED  \\\n",
       "NUMBER OF PERSONS INJURED                     -4.717365e-05   \n",
       "NUMBER OF PERSONS KILLED                       7.604183e-04   \n",
       "NUMBER OF PEDESTRIANS INJURED                 -8.792963e-07   \n",
       "NUMBER OF PEDESTRIANS KILLED                   7.479328e-04   \n",
       "NUMBER OF CYCLIST INJURED                     -1.936774e-05   \n",
       "NUMBER OF CYCLIST KILLED                      -9.003765e-08   \n",
       "NUMBER OF MOTORIST INJURED                    -2.692662e-05   \n",
       "NUMBER OF MOTORIST KILLED                      1.257562e-05   \n",
       "\n",
       "                               NUMBER OF CYCLIST INJURED  \\\n",
       "NUMBER OF PERSONS INJURED                       0.031002   \n",
       "NUMBER OF PERSONS KILLED                       -0.000071   \n",
       "NUMBER OF PEDESTRIANS INJURED                  -0.001819   \n",
       "NUMBER OF PEDESTRIANS KILLED                   -0.000019   \n",
       "NUMBER OF CYCLIST INJURED                       0.044013   \n",
       "NUMBER OF CYCLIST KILLED                       -0.000005   \n",
       "NUMBER OF MOTORIST INJURED                     -0.011191   \n",
       "NUMBER OF MOTORIST KILLED                      -0.000046   \n",
       "\n",
       "                               NUMBER OF CYCLIST KILLED  \\\n",
       "NUMBER OF PERSONS INJURED                 -4.409915e-05   \n",
       "NUMBER OF PERSONS KILLED                   1.200620e-04   \n",
       "NUMBER OF PEDESTRIANS INJURED             -6.585611e-06   \n",
       "NUMBER OF PEDESTRIANS KILLED              -9.003765e-08   \n",
       "NUMBER OF CYCLIST INJURED                 -5.260771e-06   \n",
       "NUMBER OF CYCLIST KILLED                   1.202790e-04   \n",
       "NUMBER OF MOTORIST INJURED                -3.225277e-05   \n",
       "NUMBER OF MOTORIST KILLED                 -1.270174e-07   \n",
       "\n",
       "                               NUMBER OF MOTORIST INJURED  \\\n",
       "NUMBER OF PERSONS INJURED                        0.454510   \n",
       "NUMBER OF PERSONS KILLED                         0.000740   \n",
       "NUMBER OF PEDESTRIANS INJURED                   -0.012580   \n",
       "NUMBER OF PEDESTRIANS KILLED                    -0.000027   \n",
       "NUMBER OF CYCLIST INJURED                       -0.011191   \n",
       "NUMBER OF CYCLIST KILLED                        -0.000032   \n",
       "NUMBER OF MOTORIST INJURED                       0.478281   \n",
       "NUMBER OF MOTORIST KILLED                        0.000800   \n",
       "\n",
       "                               NUMBER OF MOTORIST KILLED  \n",
       "NUMBER OF PERSONS INJURED                   7.089150e-04  \n",
       "NUMBER OF PERSONS KILLED                    1.388026e-03  \n",
       "NUMBER OF PEDESTRIANS INJURED              -4.444108e-05  \n",
       "NUMBER OF PEDESTRIANS KILLED                1.257562e-05  \n",
       "NUMBER OF CYCLIST INJURED                  -4.617788e-05  \n",
       "NUMBER OF CYCLIST KILLED                   -1.270174e-07  \n",
       "NUMBER OF MOTORIST INJURED                  7.995340e-04  \n",
       "NUMBER OF MOTORIST KILLED                   1.375578e-03  "
      ]
     },
     "execution_count": 35,
     "metadata": {},
     "output_type": "execute_result"
    }
   ],
   "source": [
    "\n",
    "import numpy as np\n",
    "# extract numeric columns in database\n",
    "columns = [\n",
    "    'NUMBER OF PERSONS INJURED', 'NUMBER OF PERSONS KILLED',\n",
    "    'NUMBER OF PEDESTRIANS INJURED', 'NUMBER OF PEDESTRIANS KILLED',\n",
    "    'NUMBER OF CYCLIST INJURED', 'NUMBER OF CYCLIST KILLED',\n",
    "    'NUMBER OF MOTORIST INJURED', 'NUMBER OF MOTORIST KILLED'\n",
    "]\n",
    "\n",
    "# drop Nan in those columns\n",
    "df_cleaned = df[columns].dropna()\n",
    "\n",
    "# find the covariance of each\n",
    "covarience = df_cleaned.cov()\n",
    "covarience \n"
   ]
  },
  {
   "cell_type": "markdown",
   "metadata": {},
   "source": [
    "I will only choose NUMBER OF PERSONS INJURED and NUMBER OF PERSONS KILLED. The covariance matrix indicates a positive relationship between the 'NUMBER OF PERSONS INJURED' and 'NUMBER OF PERSONS KILLED', suggesting that accidents with more injuries also tend to have more fatalities. The specific covariance value between these two variables is relatively small, which could imply that while there is a positive relationship, it may not be particularly strong. \n"
   ]
  },
  {
   "cell_type": "markdown",
   "metadata": {
    "tags": []
   },
   "source": [
    "**10. which month did the most number of accidents occur?**"
   ]
  },
  {
   "cell_type": "code",
   "execution_count": 32,
   "metadata": {
    "tags": []
   },
   "outputs": [
    {
     "name": "stdout",
     "output_type": "stream",
     "text": [
      " Max month: Jan \n",
      " Max accident: 14287\n"
     ]
    }
   ],
   "source": [
    "import calendar \n",
    "\n",
    "#extract the date and extrac the month\n",
    "df['MONTH'] = df['CRASH DATE'].dt.month\n",
    "# count the num of accident of each month and sort by values\n",
    "count = df['MONTH'].value_counts().sort_values()\n",
    "\n",
    "# find the max number of accident and its id (month)\n",
    "max_accident = count.max()\n",
    "max_month = count.idxmax()\n",
    "# use month_abbr to covert num to month words\n",
    "print(' Max month:',calendar.month_abbr[max_month],'\\n','Max accident:',max_accident)"
   ]
  },
  {
   "cell_type": "code",
   "execution_count": 33,
   "metadata": {
    "tags": []
   },
   "outputs": [
    {
     "data": {
      "text/plain": [
       "MONTH\n",
       "4     4115\n",
       "5     6148\n",
       "6     7609\n",
       "8     8747\n",
       "7     9224\n",
       "3    11006\n",
       "2    13682\n",
       "1    14287\n",
       "Name: count, dtype: int64"
      ]
     },
     "execution_count": 33,
     "metadata": {},
     "output_type": "execute_result"
    }
   ],
   "source": [
    "# show the whole list\n",
    "count"
   ]
  },
  {
   "cell_type": "code",
   "execution_count": 34,
   "metadata": {
    "tags": []
   },
   "outputs": [
    {
     "data": {
      "image/png": "[encoded data removed]",
      "text/plain": [
       "<Figure size 640x480 with 1 Axes>"
      ]
     },
     "metadata": {},
     "output_type": "display_data"
    }
   ],
   "source": [
    "# plot bar graph to visulaize the difference\n",
    "count.plot(kind='bar')\n",
    "plt.title('Number of Accidents by Month')\n",
    "plt.xlabel('Month')\n",
    "plt.ylabel('Number of Accidents')\n",
    "plt.xticks(ticks=range(len(calendar.month_abbr[1:])), labels=calendar.month_abbr[1:], rotation=45)\n",
    "plt.show()"
   ]
  },
  {
   "cell_type": "markdown",
   "metadata": {},
   "source": [
    "In the August, we have maximun number of accidents while in the January, we have the least number of accidents.The accidents then seem to increase as the months get warmer.\n"
   ]
  },
  {
   "cell_type": "code",
   "execution_count": null,
   "metadata": {
    "tags": []
   },
   "outputs": [],
   "source": []
  },
  {
   "cell_type": "code",
   "execution_count": null,
   "metadata": {},
   "outputs": [],
   "source": []
  }
 ],
 "metadata": {
  "kernelspec": {
   "display_name": "Python 3 (ipykernel)",
   "language": "python",
   "name": "python3"
  },
  "language_info": {
   "codemirror_mode": {
    "name": "ipython",
    "version": 3
   },
   "file_extension": ".py",
   "mimetype": "text/x-python",
   "name": "python",
   "nbconvert_exporter": "python",
   "pygments_lexer": "ipython3",
   "version": "3.11.5"
  }
 },
 "nbformat": 4,
 "nbformat_minor": 4
}
